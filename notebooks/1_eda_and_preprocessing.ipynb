{
 "cells": [
  {
   "cell_type": "code",
   "execution_count": 5,
   "id": "931e9a3e",
   "metadata": {},
   "outputs": [],
   "source": [
    "import pandas as pd  #import dependencies\n",
    "import matplotlib.pyplot as plt\n",
    "import seaborn as sns\n",
    "from datasets import load_dataset\n",
    "\n",
    "#set visualization styles of this\n",
    "plt.style.use('default')\n",
    "sns.set_palette(\"husl\")\n",
    "plt.rcParams['figure.figsize'] = (12,8)"
   ]
  },
  {
   "cell_type": "code",
   "execution_count": 11,
   "id": "97cd97ea",
   "metadata": {},
   "outputs": [
    {
     "name": "stdout",
     "output_type": "stream",
     "text": [
      "Loading medical tanscriptions - dataset !\n"
     ]
    },
    {
     "name": "stderr",
     "output_type": "stream",
     "text": [
      "Repo card metadata block was not found. Setting CardData to empty.\n"
     ]
    },
    {
     "name": "stdout",
     "output_type": "stream",
     "text": [
      "DatasetDict({\n",
      "    train: Dataset({\n",
      "        features: ['description', 'transcription', 'sample_name', 'medical_specialty', 'keywords'],\n",
      "        num_rows: 1724\n",
      "    })\n",
      "    validation: Dataset({\n",
      "        features: ['description', 'transcription', 'sample_name', 'medical_specialty', 'keywords'],\n",
      "        num_rows: 370\n",
      "    })\n",
      "    test: Dataset({\n",
      "        features: ['description', 'transcription', 'sample_name', 'medical_specialty', 'keywords'],\n",
      "        num_rows: 370\n",
      "    })\n",
      "})\n"
     ]
    }
   ],
   "source": [
    "#Load dataset form Hugging Face\n",
    "print(\"Loading medical tanscriptions - dataset !\")\n",
    "dataset = load_dataset(\"hpe-ai/medical-cases-classification-tutorial\")\n",
    "print(dataset)\n"
   ]
  }
 ],
 "metadata": {
  "kernelspec": {
   "display_name": "ml_venv",
   "language": "python",
   "name": "python3"
  },
  "language_info": {
   "codemirror_mode": {
    "name": "ipython",
    "version": 3
   },
   "file_extension": ".py",
   "mimetype": "text/x-python",
   "name": "python",
   "nbconvert_exporter": "python",
   "pygments_lexer": "ipython3",
   "version": "3.10.12"
  }
 },
 "nbformat": 4,
 "nbformat_minor": 5
}
