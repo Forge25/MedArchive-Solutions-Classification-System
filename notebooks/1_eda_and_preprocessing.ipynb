{
 "cells": [
  {
   "cell_type": "code",
   "execution_count": 5,
   "id": "931e9a3e",
   "metadata": {},
   "outputs": [],
   "source": [
    "import pandas as pd  #import dependencies\n",
    "import matplotlib.pyplot as plt\n",
    "import seaborn as sns\n",
    "from datasets import load_dataset\n",
    "\n",
    "#set visualization styles of this\n",
    "plt.style.use('default')\n",
    "sns.set_palette(\"husl\")\n",
    "plt.rcParams['figure.figsize'] = (12,8)"
   ]
  },
  {
   "cell_type": "code",
   "execution_count": 14,
   "id": "97cd97ea",
   "metadata": {},
   "outputs": [
    {
     "name": "stdout",
     "output_type": "stream",
     "text": [
      "Loading medical tanscriptions - dataset !\n"
     ]
    },
    {
     "name": "stderr",
     "output_type": "stream",
     "text": [
      "Repo card metadata block was not found. Setting CardData to empty.\n"
     ]
    },
    {
     "name": "stdout",
     "output_type": "stream",
     "text": [
      "DatasetDict({\n",
      "    train: Dataset({\n",
      "        features: ['description', 'transcription', 'sample_name', 'medical_specialty', 'keywords'],\n",
      "        num_rows: 1724\n",
      "    })\n",
      "    validation: Dataset({\n",
      "        features: ['description', 'transcription', 'sample_name', 'medical_specialty', 'keywords'],\n",
      "        num_rows: 370\n",
      "    })\n",
      "    test: Dataset({\n",
      "        features: ['description', 'transcription', 'sample_name', 'medical_specialty', 'keywords'],\n",
      "        num_rows: 370\n",
      "    })\n",
      "})\n",
      "Dataset Loaded sucessfuly ✅!\n",
      "Training set :1724\n",
      "Validation set:370\n",
      "test set:370\n",
      "Total sets:2464\n"
     ]
    }
   ],
   "source": [
    "#Load dataset form Hugging Face\n",
    "print(\"Loading medical tanscriptions - dataset !\")\n",
    "dataset = load_dataset(\"hpe-ai/medical-cases-classification-tutorial\")\n",
    "print(dataset)\n",
    "\n",
    "#convert to the pandas dataframes - (training ,validations and testing )\n",
    "train_df = pd.DataFrame(dataset['train'])\n",
    "val_df = pd.DataFrame(dataset['validation'])\n",
    "test_df = pd.DataFrame(dataset['test'])\n",
    "\n",
    "print(\"Dataset Loaded sucessfuly ✅!\")\n",
    "\n",
    "print(f\"Training set :{len(train_df)}\")\n",
    "print(f\"Validation set:{len(val_df)}\")\n",
    "print(f\"test set:{len(val_df)}\")\n",
    "\n",
    "print(f\"Total sets:{len(train_df)+len(val_df)+len(test_df)}\")\n",
    "\n"
   ]
  },
  {
   "cell_type": "code",
   "execution_count": 18,
   "id": "dcb3fcc5",
   "metadata": {},
   "outputs": [
    {
     "name": "stdout",
     "output_type": "stream",
     "text": [
      "Dataset stucture :\n",
      "<class 'pandas.core.frame.DataFrame'>\n",
      "RangeIndex: 1724 entries, 0 to 1723\n",
      "Data columns (total 5 columns):\n",
      " #   Column             Non-Null Count  Dtype \n",
      "---  ------             --------------  ----- \n",
      " 0   description        1724 non-null   object\n",
      " 1   transcription      1724 non-null   object\n",
      " 2   sample_name        1724 non-null   object\n",
      " 3   medical_specialty  1724 non-null   object\n",
      " 4   keywords           1109 non-null   object\n",
      "dtypes: object(5)\n",
      "memory usage: 67.5+ KB\n",
      "None\n",
      "\n",
      " display first few rows :\n",
      "                                         description  \\\n",
      "0  Pacemaker ICD interrogation.  Severe nonischem...   \n",
      "1  Erythema of the right knee and leg, possible s...   \n",
      "2  Left cardiac catheterization with selective ri...   \n",
      "3  Patient with a history of coronary artery dise...   \n",
      "4  Cardiac evaluation and treatment in a patient ...   \n",
      "\n",
      "                                       transcription  \\\n",
      "0  PROCEDURE NOTE: , Pacemaker ICD interrogation....   \n",
      "1  PREOPERATIVE DIAGNOSES: , Erythema of the righ...   \n",
      "2  PREOPERATIVE DIAGNOSIS: , Post infarct angina....   \n",
      "3  REASON FOR VISIT: , Acute kidney failure.,HIST...   \n",
      "4  REASON FOR REFERRAL: , Cardiac evaluation and ...   \n",
      "\n",
      "                                     sample_name           medical_specialty  \\\n",
      "0                        Pacemaker Interrogation  Cardiovascular / Pulmonary   \n",
      "1                        Aspiration - Knee Joint                  Orthopedic   \n",
      "2  Cardiac Cath & Selective Coronary Angiography  Cardiovascular / Pulmonary   \n",
      "3                           Acute Kidney Failure                  Nephrology   \n",
      "4                       Cardiac Consultation - 6  Cardiovascular / Pulmonary   \n",
      "\n",
      "                                            keywords  \n",
      "0  cardiovascular / pulmonary, cardiomyopathy, ve...  \n",
      "1  orthopedic, knee and leg, anterolateral portal...  \n",
      "2  cardiovascular / pulmonary, selective, angiogr...  \n",
      "3                                               None  \n",
      "4                                               None  \n"
     ]
    }
   ],
   "source": [
    "#Display basic information about this dataset\n",
    "print(\"Dataset stucture :\")\n",
    "print(train_df.info())\n",
    "print(\"\\n display first few rows :\")\n",
    "print(train_df.head())"
   ]
  },
  {
   "cell_type": "code",
   "execution_count": 19,
   "id": "52fb6bb5",
   "metadata": {},
   "outputs": [
    {
     "name": "stdout",
     "output_type": "stream",
     "text": [
      "column Anlysis .!\n",
      "\n",
      "description:\n",
      "  Data type: object\n",
      "  Non-null values: 1724/1724\n",
      "  Unique values: 1259\n",
      "\n",
      "transcription:\n",
      "  Data type: object\n",
      "  Non-null values: 1724/1724\n",
      "  Unique values: 1263\n",
      "\n",
      "sample_name:\n",
      "  Data type: object\n",
      "  Non-null values: 1724/1724\n",
      "  Unique values: 1294\n",
      "\n",
      "medical_specialty:\n",
      "  Data type: object\n",
      "  Non-null values: 1724/1724\n",
      "  Unique values: 13\n",
      "  Categories: ['Cardiovascular / Pulmonary', 'ENT - Otolaryngology', 'Gastroenterology', 'Hematology - Oncology', 'Nephrology', 'Neurology', 'Neurosurgery', 'Obstetrics / Gynecology', 'Ophthalmology', 'Orthopedic', 'Pediatrics - Neonatal', 'Psychiatry / Psychology', 'Radiology']\n",
      "\n",
      "keywords:\n",
      "  Data type: object\n",
      "  Non-null values: 1109/1724\n",
      "  Unique values: 971\n"
     ]
    }
   ],
   "source": [
    "#Column anlysis and their data types \n",
    "print(\"column Anlysis .!\")\n",
    "for col in train_df.columns:\n",
    "    print(f\"\\n{col}:\")\n",
    "    print(f\"  Data type: {train_df[col].dtype}\")\n",
    "    print(f\"  Non-null values: {train_df[col].count()}/{len(train_df)}\")\n",
    "    if train_df[col].dtype == 'object':\n",
    "        print(f\"  Unique values: {train_df[col].nunique()}\")\n",
    "        if col == 'medical_specialty':\n",
    "            print(f\"  Categories: {sorted(train_df[col].unique())}\")"
   ]
  }
 ],
 "metadata": {
  "kernelspec": {
   "display_name": "ml_venv",
   "language": "python",
   "name": "python3"
  },
  "language_info": {
   "codemirror_mode": {
    "name": "ipython",
    "version": 3
   },
   "file_extension": ".py",
   "mimetype": "text/x-python",
   "name": "python",
   "nbconvert_exporter": "python",
   "pygments_lexer": "ipython3",
   "version": "3.10.12"
  }
 },
 "nbformat": 4,
 "nbformat_minor": 5
}
