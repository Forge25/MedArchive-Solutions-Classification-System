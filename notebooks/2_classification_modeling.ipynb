{
 "cells": [
  {
   "cell_type": "code",
   "execution_count": 1,
   "id": "46ba99d6",
   "metadata": {},
   "outputs": [],
   "source": [
    "# Import required libraries\n",
    "import pandas as pd\n",
    "import numpy as np\n",
    "import matplotlib.pyplot as plt\n",
    "import seaborn as sns\n",
    "import joblib\n",
    "import os\n",
    "from sklearn.linear_model import LogisticRegression\n",
    "from sklearn.model_selection import cross_val_score, GridSearchCV, StratifiedKFold\n",
    "from sklearn.metrics import (\n",
    "    accuracy_score, precision_score, recall_score, f1_score,\n",
    "    confusion_matrix, classification_report\n",
    ")\n",
    "from sklearn.pipeline import Pipeline\n",
    "import warnings\n",
    "warnings.filterwarnings('ignore')\n",
    "\n",
    "# Set visualization style\n",
    "plt.style.use('default')\n",
    "sns.set_palette(\"husl\")\n",
    "plt.rcParams['figure.figsize'] = (12, 8)"
   ]
  },
  {
   "cell_type": "code",
   "execution_count": 2,
   "id": "732619ce",
   "metadata": {},
   "outputs": [
    {
     "name": "stdout",
     "output_type": "stream",
     "text": [
      "Loading preprocessed data...\n",
      "Data loaded successfully!\n",
      "Training set: (1724, 5000)\n",
      "Validation set: (370, 5000)\n",
      "Test set: (370, 5000)\n",
      "Number of classes: 13\n",
      "Classes: ['Cardiovascular / Pulmonary', 'ENT - Otolaryngology', 'Gastroenterology', 'Hematology - Oncology', 'Nephrology', 'Neurology', 'Neurosurgery', 'Obstetrics / Gynecology', 'Ophthalmology', 'Orthopedic', 'Pediatrics - Neonatal', 'Psychiatry / Psychology', 'Radiology']\n"
     ]
    }
   ],
   "source": [
    "# Load preprocessed data\n",
    "artifacts_dir = '../artifacts'\n",
    "\n",
    "print(\"Loading preprocessed data...\")\n",
    "data = joblib.load(os.path.join(artifacts_dir, 'preprocessed_data.joblib'))\n",
    "vectorizer = joblib.load(os.path.join(artifacts_dir, 'tfidf_vectorizer.joblib'))\n",
    "\n",
    "# Extract data components\n",
    "X_train = data['X_train']\n",
    "X_val = data['X_val']\n",
    "X_test = data['X_test']\n",
    "y_train = data['y_train']\n",
    "y_val = data['y_val']\n",
    "y_test = data['y_test']\n",
    "feature_names = data['feature_names']\n",
    "class_names = data['class_names']\n",
    "\n",
    "print(f\"Data loaded successfully!\")\n",
    "print(f\"Training set: {X_train.shape}\")\n",
    "print(f\"Validation set: {X_val.shape}\")\n",
    "print(f\"Test set: {X_test.shape}\")\n",
    "print(f\"Number of classes: {len(class_names)}\")\n",
    "print(f\"Classes: {class_names}\")"
   ]
  },
  {
   "cell_type": "code",
   "execution_count": 3,
   "id": "f6c0ceab",
   "metadata": {},
   "outputs": [
    {
     "name": "stdout",
     "output_type": "stream",
     "text": [
      "Initializing Softmax Regression (Multinomial Logistic Regression)...\n",
      "Model Configuration:\n",
      "- Multi-class strategy: multinomial\n",
      "- Solver: lbfgs\n",
      "- Class weight: balanced\n",
      "- Max iterations: 1000\n"
     ]
    }
   ],
   "source": [
    "# Initialize Softmax Regression model\n",
    "print(\"Initializing Softmax Regression (Multinomial Logistic Regression)...\")\n",
    "\n",
    "# Configure the model for multi-class classification\n",
    "softmax_model = LogisticRegression(\n",
    "    multi_class='multinomial',  # Use multinomial (softmax) approach\n",
    "    solver='lbfgs',            # Limited-memory BFGS solver (good for small datasets)\n",
    "    max_iter=1000,             # Increase iterations for convergence\n",
    "    random_state=42,           # For reproducibility\n",
    "    class_weight='balanced'    # Handle class imbalance\n",
    ")\n",
    "\n",
    "print(\"Model Configuration:\")\n",
    "print(f\"- Multi-class strategy: {softmax_model.multi_class}\")\n",
    "print(f\"- Solver: {softmax_model.solver}\")\n",
    "print(f\"- Class weight: {softmax_model.class_weight}\")\n",
    "print(f\"- Max iterations: {softmax_model.max_iter}\")"
   ]
  },
  {
   "cell_type": "code",
   "execution_count": 4,
   "id": "e522a63c",
   "metadata": {},
   "outputs": [
    {
     "name": "stdout",
     "output_type": "stream",
     "text": [
      "Training baseline Softmax Regression model...\n",
      "Model training completed!\n",
      "Number of classes learned: 13\n",
      "Feature coefficient shape: (13, 5000)\n",
      "Classes: ['Cardiovascular / Pulmonary' 'ENT - Otolaryngology' 'Gastroenterology'\n",
      " 'Hematology - Oncology' 'Nephrology' 'Neurology' 'Neurosurgery'\n",
      " 'Obstetrics / Gynecology' 'Ophthalmology' 'Orthopedic'\n",
      " 'Pediatrics - Neonatal' 'Psychiatry / Psychology' 'Radiology']\n"
     ]
    }
   ],
   "source": [
    "# Train the baseline model\n",
    "print(\"Training baseline Softmax Regression model...\")\n",
    "\n",
    "softmax_model.fit(X_train, y_train)\n",
    "\n",
    "print(\"Model training completed!\")\n",
    "print(f\"Number of classes learned: {len(softmax_model.classes_)}\")\n",
    "print(f\"Feature coefficient shape: {softmax_model.coef_.shape}\")\n",
    "print(f\"Classes: {softmax_model.classes_}\")"
   ]
  },
  {
   "cell_type": "code",
   "execution_count": 5,
   "id": "4c89293a",
   "metadata": {},
   "outputs": [
    {
     "name": "stdout",
     "output_type": "stream",
     "text": [
      "Performing 5-fold stratified cross-validation...\n",
      "Cross-Validation Results:\n",
      "Accuracy:  0.7848 ± 0.0176\n",
      "Precision: 0.7269 ± 0.0208\n",
      "Recall:    0.7857 ± 0.0316\n",
      "F1-Score:  0.7425 ± 0.0249\n"
     ]
    },
    {
     "data": {
      "image/png": "[encoded data removed]",
      "text/plain": [
       "<Figure size 1000x600 with 1 Axes>"
      ]
     },
     "metadata": {},
     "output_type": "display_data"
    }
   ],
   "source": [
    "# Perform stratified cross-validation\n",
    "print(\"Performing 5-fold stratified cross-validation...\")\n",
    "\n",
    "cv_strategy = StratifiedKFold(n_splits=5, shuffle=True, random_state=42)\n",
    "\n",
    "# Calculate multiple metrics through cross-validation\n",
    "cv_accuracy = cross_val_score(softmax_model, X_train, y_train, \n",
    "                             cv=cv_strategy, scoring='accuracy')\n",
    "cv_precision = cross_val_score(softmax_model, X_train, y_train, \n",
    "                              cv=cv_strategy, scoring='precision_macro')\n",
    "cv_recall = cross_val_score(softmax_model, X_train, y_train, \n",
    "                           cv=cv_strategy, scoring='recall_macro')\n",
    "cv_f1 = cross_val_score(softmax_model, X_train, y_train, \n",
    "                       cv=cv_strategy, scoring='f1_macro')\n",
    "\n",
    "print(\"Cross-Validation Results:\")\n",
    "print(f\"Accuracy:  {cv_accuracy.mean():.4f} ± {cv_accuracy.std():.4f}\")\n",
    "print(f\"Precision: {cv_precision.mean():.4f} ± {cv_precision.std():.4f}\")\n",
    "print(f\"Recall:    {cv_recall.mean():.4f} ± {cv_recall.std():.4f}\")\n",
    "print(f\"F1-Score:  {cv_f1.mean():.4f} ± {cv_f1.std():.4f}\")\n",
    "\n",
    "# Visualize cross-validation results\n",
    "cv_results = {\n",
    "    'Accuracy': cv_accuracy,\n",
    "    'Precision': cv_precision,\n",
    "    'Recall': cv_recall,\n",
    "    'F1-Score': cv_f1\n",
    "}\n",
    "\n",
    "fig, ax = plt.subplots(1, 1, figsize=(10, 6))\n",
    "box_data = [cv_results[metric] for metric in cv_results.keys()]\n",
    "box_plot = ax.boxplot(box_data, labels=cv_results.keys(), patch_artist=True)\n",
    "\n",
    "# Color the boxes\n",
    "colors = ['lightblue', 'lightgreen', 'lightcoral', 'lightyellow']\n",
    "for patch, color in zip(box_plot['boxes'], colors):\n",
    "    patch.set_facecolor(color)\n",
    "\n",
    "ax.set_title('5-Fold Cross-Validation Results', fontsize=16, fontweight='bold')\n",
    "ax.set_ylabel('Score', fontsize=12)\n",
    "ax.grid(axis='y', alpha=0.3)\n",
    "ax.set_ylim(0, 1)\n",
    "\n",
    "plt.tight_layout()\n",
    "plt.show()"
   ]
  },
  {
   "cell_type": "code",
   "execution_count": 7,
   "id": "59415f3f",
   "metadata": {},
   "outputs": [
    {
     "name": "stdout",
     "output_type": "stream",
     "text": [
      "Starting hyperparameter tuning with GridSearchCV...\n",
      "Fitting 5 folds for each of 16 candidates, totalling 80 fits\n",
      "\n",
      "Hyperparameter tuning completed!\n",
      "Best parameters: {'C': 10.0, 'class_weight': 'balanced', 'solver': 'lbfgs'}\n",
      "Best cross-validation F1-score: 0.7469\n"
     ]
    }
   ],
   "source": [
    "# Define hyperparameter grid\n",
    "print(\"Starting hyperparameter tuning with GridSearchCV...\")\n",
    "\n",
    "param_grid = {\n",
    "    'C': [0.1, 1.0, 10.0, 100.0],  # Regularization strength\n",
    "    'solver': ['lbfgs', 'liblinear'],  # Different solvers\n",
    "    'class_weight': ['balanced', None]  # Class weighting strategies\n",
    "}\n",
    "\n",
    "# Create base model\n",
    "base_model = LogisticRegression(\n",
    "    multi_class='multinomial',\n",
    "    max_iter=1000,\n",
    "    random_state=42\n",
    ")\n",
    "\n",
    "# Perform grid search\n",
    "grid_search = GridSearchCV(\n",
    "    base_model,\n",
    "    param_grid,\n",
    "    cv=cv_strategy,\n",
    "    scoring='f1_macro',  # Use F1-macro as it handles class imbalance well\n",
    "    n_jobs=-1,\n",
    "    verbose=1\n",
    ")\n",
    "\n",
    "grid_search.fit(X_train, y_train)\n",
    "\n",
    "print(\"\\nHyperparameter tuning completed!\")\n",
    "print(f\"Best parameters: {grid_search.best_params_}\")\n",
    "print(f\"Best cross-validation F1-score: {grid_search.best_score_:.4f}\")"
   ]
  }
 ],
 "metadata": {
  "kernelspec": {
   "display_name": "Python 3",
   "language": "python",
   "name": "python3"
  },
  "language_info": {
   "codemirror_mode": {
    "name": "ipython",
    "version": 3
   },
   "file_extension": ".py",
   "mimetype": "text/x-python",
   "name": "python",
   "nbconvert_exporter": "python",
   "pygments_lexer": "ipython3",
   "version": "3.12.6"
  }
 },
 "nbformat": 4,
 "nbformat_minor": 5
}
