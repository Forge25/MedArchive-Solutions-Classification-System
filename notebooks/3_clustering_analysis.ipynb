{
 "cells": [
  {
   "cell_type": "code",
   "execution_count": 1,
   "id": "acc2a3a9",
   "metadata": {},
   "outputs": [],
   "source": [
    "# Import required libraries\n",
    "import pandas as pd\n",
    "import numpy as np\n",
    "import matplotlib.pyplot as plt\n",
    "import seaborn as sns\n",
    "import joblib\n",
    "import os\n",
    "from sklearn.cluster import KMeans\n",
    "from sklearn.metrics import silhouette_score, adjusted_rand_score, normalized_mutual_info_score\n",
    "from sklearn.decomposition import PCA\n",
    "from sklearn.manifold import TSNE\n",
    "from collections import Counter\n",
    "import warnings\n",
    "warnings.filterwarnings('ignore')\n",
    "\n",
    "# Set visualization style\n",
    "plt.style.use('default')\n",
    "sns.set_palette(\"husl\")\n",
    "plt.rcParams['figure.figsize'] = (12, 8)"
   ]
  },
  {
   "cell_type": "code",
   "execution_count": null,
   "id": "523c665c",
   "metadata": {},
   "outputs": [],
   "source": [
    "# Load preprocessed data\n",
    "artifacts_dir = '../artifacts'\n",
    "\n",
    "print(\"Loading preprocessed data for clustering analysis...\")\n",
    "data = joblib.load(os.path.join(artifacts_dir, 'preprocessed_data.joblib'))\n",
    "vectorizer = joblib.load(os.path.join(artifacts_dir, 'tfidf_vectorizer.joblib'))\n",
    "\n",
    "# Extract data components - combine all splits for clustering\n",
    "X_train = data['X_train']\n",
    "X_val = data['X_val']\n",
    "X_test = data['X_test']\n",
    "y_train = data['y_train']\n",
    "y_val = data['y_val']\n",
    "y_test = data['y_test']\n",
    "feature_names = data['feature_names']\n",
    "class_names = data['class_names']\n",
    "\n",
    "# Combine all data for clustering (unsupervised learning)\n",
    "from scipy.sparse import vstack\n",
    "X_all = vstack([X_train, X_val, X_test])\n",
    "y_all = pd.concat([y_train, y_val, y_test], ignore_index=True)\n",
    "\n",
    "print(f\"Combined dataset for clustering: {X_all.shape}\")\n",
    "print(f\"Total documents: {len(y_all)}\")\n",
    "print(f\"Feature dimensions: {X_all.shape[1]}\")\n",
    "print(f\"True labels available for evaluation: {len(class_names)} classes\")"
   ]
  }
 ],
 "metadata": {
  "kernelspec": {
   "display_name": "Python 3",
   "language": "python",
   "name": "python3"
  },
  "language_info": {
   "codemirror_mode": {
    "name": "ipython",
    "version": 3
   },
   "file_extension": ".py",
   "mimetype": "text/x-python",
   "name": "python",
   "nbconvert_exporter": "python",
   "pygments_lexer": "ipython3",
   "version": "3.13.0"
  }
 },
 "nbformat": 4,
 "nbformat_minor": 5
}
