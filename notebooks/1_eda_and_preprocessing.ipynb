{
 "cells": [
  {
   "cell_type": "code",
   "execution_count": 5,
   "id": "931e9a3e",
   "metadata": {},
   "outputs": [],
   "source": [
    "import pandas as pd  #import dependencies\n",
    "import matplotlib.pyplot as plt\n",
    "import seaborn as sns\n",
    "from datasets import load_dataset\n",
    "\n",
    "#set visualization styles of this\n",
    "plt.style.use('default')\n",
    "sns.set_palette(\"husl\")\n",
    "plt.rcParams['figure.figsize'] = (12,8)"
   ]
  },
  {
   "cell_type": "code",
   "execution_count": 14,
   "id": "97cd97ea",
   "metadata": {},
   "outputs": [
    {
     "name": "stdout",
     "output_type": "stream",
     "text": [
      "Loading medical tanscriptions - dataset !\n"
     ]
    },
    {
     "name": "stderr",
     "output_type": "stream",
     "text": [
      "Repo card metadata block was not found. Setting CardData to empty.\n"
     ]
    },
    {
     "name": "stdout",
     "output_type": "stream",
     "text": [
      "DatasetDict({\n",
      "    train: Dataset({\n",
      "        features: ['description', 'transcription', 'sample_name', 'medical_specialty', 'keywords'],\n",
      "        num_rows: 1724\n",
      "    })\n",
      "    validation: Dataset({\n",
      "        features: ['description', 'transcription', 'sample_name', 'medical_specialty', 'keywords'],\n",
      "        num_rows: 370\n",
      "    })\n",
      "    test: Dataset({\n",
      "        features: ['description', 'transcription', 'sample_name', 'medical_specialty', 'keywords'],\n",
      "        num_rows: 370\n",
      "    })\n",
      "})\n",
      "Dataset Loaded sucessfuly ✅!\n",
      "Training set :1724\n",
      "Validation set:370\n",
      "test set:370\n",
      "Total sets:2464\n"
     ]
    }
   ],
   "source": [
    "#Load dataset form Hugging Face\n",
    "print(\"Loading medical tanscriptions - dataset !\")\n",
    "dataset = load_dataset(\"hpe-ai/medical-cases-classification-tutorial\")\n",
    "print(dataset)\n",
    "\n",
    "#convert to the pandas dataframes - (training ,validations and testing )\n",
    "train_df = pd.DataFrame(dataset['train'])\n",
    "val_df = pd.DataFrame(dataset['validation'])\n",
    "test_df = pd.DataFrame(dataset['test'])\n",
    "\n",
    "print(\"Dataset Loaded sucessfuly ✅!\")\n",
    "\n",
    "print(f\"Training set :{len(train_df)}\")\n",
    "print(f\"Validation set:{len(val_df)}\")\n",
    "print(f\"test set:{len(val_df)}\")\n",
    "\n",
    "print(f\"Total sets:{len(train_df)+len(val_df)+len(test_df)}\")\n",
    "\n"
   ]
  }
 ],
 "metadata": {
  "kernelspec": {
   "display_name": "ml_venv",
   "language": "python",
   "name": "python3"
  },
  "language_info": {
   "codemirror_mode": {
    "name": "ipython",
    "version": 3
   },
   "file_extension": ".py",
   "mimetype": "text/x-python",
   "name": "python",
   "nbconvert_exporter": "python",
   "pygments_lexer": "ipython3",
   "version": "3.10.12"
  }
 },
 "nbformat": 4,
 "nbformat_minor": 5
}
