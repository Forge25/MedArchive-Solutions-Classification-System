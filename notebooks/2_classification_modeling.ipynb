{
 "cells": [
  {
   "cell_type": "code",
   "execution_count": 1,
   "id": "46ba99d6",
   "metadata": {},
   "outputs": [],
   "source": [
    "# Import required libraries\n",
    "import pandas as pd\n",
    "import numpy as np\n",
    "import matplotlib.pyplot as plt\n",
    "import seaborn as sns\n",
    "import joblib\n",
    "import os\n",
    "from sklearn.linear_model import LogisticRegression\n",
    "from sklearn.model_selection import cross_val_score, GridSearchCV, StratifiedKFold\n",
    "from sklearn.metrics import (\n",
    "    accuracy_score, precision_score, recall_score, f1_score,\n",
    "    confusion_matrix, classification_report\n",
    ")\n",
    "from sklearn.pipeline import Pipeline\n",
    "import warnings\n",
    "warnings.filterwarnings('ignore')\n",
    "\n",
    "# Set visualization style\n",
    "plt.style.use('default')\n",
    "sns.set_palette(\"husl\")\n",
    "plt.rcParams['figure.figsize'] = (12, 8)"
   ]
  },
  {
   "cell_type": "code",
   "execution_count": 2,
   "id": "732619ce",
   "metadata": {},
   "outputs": [
    {
     "name": "stdout",
     "output_type": "stream",
     "text": [
      "Loading preprocessed data...\n",
      "Data loaded successfully!\n",
      "Training set: (1724, 5000)\n",
      "Validation set: (370, 5000)\n",
      "Test set: (370, 5000)\n",
      "Number of classes: 13\n",
      "Classes: ['Cardiovascular / Pulmonary', 'ENT - Otolaryngology', 'Gastroenterology', 'Hematology - Oncology', 'Nephrology', 'Neurology', 'Neurosurgery', 'Obstetrics / Gynecology', 'Ophthalmology', 'Orthopedic', 'Pediatrics - Neonatal', 'Psychiatry / Psychology', 'Radiology']\n"
     ]
    }
   ],
   "source": [
    "# Load preprocessed data\n",
    "artifacts_dir = '../artifacts'\n",
    "\n",
    "print(\"Loading preprocessed data...\")\n",
    "data = joblib.load(os.path.join(artifacts_dir, 'preprocessed_data.joblib'))\n",
    "vectorizer = joblib.load(os.path.join(artifacts_dir, 'tfidf_vectorizer.joblib'))\n",
    "\n",
    "# Extract data components\n",
    "X_train = data['X_train']\n",
    "X_val = data['X_val']\n",
    "X_test = data['X_test']\n",
    "y_train = data['y_train']\n",
    "y_val = data['y_val']\n",
    "y_test = data['y_test']\n",
    "feature_names = data['feature_names']\n",
    "class_names = data['class_names']\n",
    "\n",
    "print(f\"Data loaded successfully!\")\n",
    "print(f\"Training set: {X_train.shape}\")\n",
    "print(f\"Validation set: {X_val.shape}\")\n",
    "print(f\"Test set: {X_test.shape}\")\n",
    "print(f\"Number of classes: {len(class_names)}\")\n",
    "print(f\"Classes: {class_names}\")"
   ]
  },
  {
   "cell_type": "code",
   "execution_count": 3,
   "id": "f6c0ceab",
   "metadata": {},
   "outputs": [
    {
     "name": "stdout",
     "output_type": "stream",
     "text": [
      "Initializing Softmax Regression (Multinomial Logistic Regression)...\n",
      "Model Configuration:\n",
      "- Multi-class strategy: multinomial\n",
      "- Solver: lbfgs\n",
      "- Class weight: balanced\n",
      "- Max iterations: 1000\n"
     ]
    }
   ],
   "source": [
    "# Initialize Softmax Regression model\n",
    "print(\"Initializing Softmax Regression (Multinomial Logistic Regression)...\")\n",
    "\n",
    "# Configure the model for multi-class classification\n",
    "softmax_model = LogisticRegression(\n",
    "    multi_class='multinomial',  # Use multinomial (softmax) approach\n",
    "    solver='lbfgs',            # Limited-memory BFGS solver (good for small datasets)\n",
    "    max_iter=1000,             # Increase iterations for convergence\n",
    "    random_state=42,           # For reproducibility\n",
    "    class_weight='balanced'    # Handle class imbalance\n",
    ")\n",
    "\n",
    "print(\"Model Configuration:\")\n",
    "print(f\"- Multi-class strategy: {softmax_model.multi_class}\")\n",
    "print(f\"- Solver: {softmax_model.solver}\")\n",
    "print(f\"- Class weight: {softmax_model.class_weight}\")\n",
    "print(f\"- Max iterations: {softmax_model.max_iter}\")"
   ]
  },
  {
   "cell_type": "code",
   "execution_count": 4,
   "id": "e522a63c",
   "metadata": {},
   "outputs": [
    {
     "name": "stdout",
     "output_type": "stream",
     "text": [
      "Training baseline Softmax Regression model...\n",
      "Model training completed!\n",
      "Number of classes learned: 13\n",
      "Feature coefficient shape: (13, 5000)\n",
      "Classes: ['Cardiovascular / Pulmonary' 'ENT - Otolaryngology' 'Gastroenterology'\n",
      " 'Hematology - Oncology' 'Nephrology' 'Neurology' 'Neurosurgery'\n",
      " 'Obstetrics / Gynecology' 'Ophthalmology' 'Orthopedic'\n",
      " 'Pediatrics - Neonatal' 'Psychiatry / Psychology' 'Radiology']\n"
     ]
    }
   ],
   "source": [
    "# Train the baseline model\n",
    "print(\"Training baseline Softmax Regression model...\")\n",
    "\n",
    "softmax_model.fit(X_train, y_train)\n",
    "\n",
    "print(\"Model training completed!\")\n",
    "print(f\"Number of classes learned: {len(softmax_model.classes_)}\")\n",
    "print(f\"Feature coefficient shape: {softmax_model.coef_.shape}\")\n",
    "print(f\"Classes: {softmax_model.classes_}\")"
   ]
  }
 ],
 "metadata": {
  "kernelspec": {
   "display_name": "Python 3",
   "language": "python",
   "name": "python3"
  },
  "language_info": {
   "codemirror_mode": {
    "name": "ipython",
    "version": 3
   },
   "file_extension": ".py",
   "mimetype": "text/x-python",
   "name": "python",
   "nbconvert_exporter": "python",
   "pygments_lexer": "ipython3",
   "version": "3.12.6"
  }
 },
 "nbformat": 4,
 "nbformat_minor": 5
}
